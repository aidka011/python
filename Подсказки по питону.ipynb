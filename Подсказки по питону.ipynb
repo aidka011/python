{
 "cells": [
  {
   "cell_type": "markdown",
   "metadata": {},
   "source": [
    "# 1. Ввод и вывод данных"
   ]
  },
  {
   "cell_type": "markdown",
   "metadata": {},
   "source": [
    "#### 1.1. Вывод данных на экран"
   ]
  },
  {
   "cell_type": "code",
   "execution_count": 1,
   "metadata": {},
   "outputs": [
    {
     "name": "stdout",
     "output_type": "stream",
     "text": [
      "12\n",
      "1\n"
     ]
    }
   ],
   "source": [
    "print(37 // 3)  # два слэша считают частное от деления нацело\n",
    "print(37 % 3)  # процент считает остаток от деления нацело"
   ]
  },
  {
   "cell_type": "code",
   "execution_count": 1,
   "metadata": {},
   "outputs": [
    {
     "name": "stdout",
     "output_type": "stream",
     "text": [
      "1, 2, 3. "
     ]
    }
   ],
   "source": [
    "print(1, 2, 3, sep=', ', end='. ') #sep - указываем, каким \n",
    "                                   #символом разделять вывод данных\n",
    "                                   #end - что ставим в конце"
   ]
  },
  {
   "cell_type": "code",
   "execution_count": 3,
   "metadata": {},
   "outputs": [
    {
     "name": "stdout",
     "output_type": "stream",
     "text": [
      "4 * 5 * 6."
     ]
    }
   ],
   "source": [
    "print(4, 5, 6, sep=' * ', end='.')"
   ]
  },
  {
   "cell_type": "markdown",
   "metadata": {},
   "source": [
    "#### 1.2. Ввод (считывание) данных"
   ]
  },
  {
   "cell_type": "markdown",
   "metadata": {},
   "source": [
    "Считываем данные с помощью функции input(). По умолчанию python относит полученные данные к типу str и думает, что мы вводим строку. "
   ]
  },
  {
   "cell_type": "markdown",
   "metadata": {},
   "source": [
    "##### Считывание строки"
   ]
  },
  {
   "cell_type": "code",
   "execution_count": 4,
   "metadata": {},
   "outputs": [
    {
     "name": "stdout",
     "output_type": "stream",
     "text": [
      "5\n",
      "6\n",
      "56\n"
     ]
    }
   ],
   "source": [
    "a = input()\n",
    "b = input()\n",
    "s = a + b\n",
    "print(s)\n",
    "#python думает, что мы вводим строки и, когда мы пишем \"+\", он \n",
    "#просто их склеивает, как если бы он складывал строки, а не числа"
   ]
  },
  {
   "cell_type": "markdown",
   "metadata": {},
   "source": [
    "##### Считывание чисел, введенных через строку"
   ]
  },
  {
   "cell_type": "code",
   "execution_count": 5,
   "metadata": {},
   "outputs": [
    {
     "name": "stdout",
     "output_type": "stream",
     "text": [
      "5\n",
      "6\n",
      "11\n"
     ]
    }
   ],
   "source": [
    "a = int(input())\n",
    "b = int(input())\n",
    "s = a + b\n",
    "print(s)"
   ]
  },
  {
   "cell_type": "markdown",
   "metadata": {},
   "source": [
    "##### Считывание чисел, разделенных пробелами"
   ]
  },
  {
   "cell_type": "code",
   "execution_count": 6,
   "metadata": {},
   "outputs": [
    {
     "name": "stdout",
     "output_type": "stream",
     "text": [
      "4 5 6 3\n",
      "[4, 5, 6, 3]\n"
     ]
    }
   ],
   "source": [
    "a = [int(i) for i in input().split()]\n",
    "print(a)"
   ]
  },
  {
   "cell_type": "markdown",
   "metadata": {},
   "source": [
    "# 2. Условия"
   ]
  },
  {
   "cell_type": "raw",
   "metadata": {},
   "source": [
    "if Условие:\n",
    "    Блок инструкций 1\n",
    "elif: \n",
    "    Блок инструкций 2\n",
    "else:\n",
    "    Блок инструкций 3\n",
    "\n",
    "# elif и else являются необязательными"
   ]
  },
  {
   "cell_type": "code",
   "execution_count": 2,
   "metadata": {},
   "outputs": [
    {
     "name": "stdout",
     "output_type": "stream",
     "text": [
      "5\n",
      "5\n"
     ]
    }
   ],
   "source": [
    "# Программа должна напечатать значение переменной x,\n",
    "# если x>0 или же величину -x в противном случае. \n",
    "x = int(input())\n",
    "if x > 0:\n",
    "    print(x)\n",
    "else:\n",
    "    print(-x)"
   ]
  },
  {
   "cell_type": "code",
   "execution_count": null,
   "metadata": {},
   "outputs": [],
   "source": [
    "# Пример программы, определяющий четверть координатной плоскости\n",
    "x = int(input())\n",
    "y = int(input())\n",
    "if x > 0 and y > 0:\n",
    "    print(\"Первая четверть\")\n",
    "elif x > 0 and y < 0:\n",
    "    print(\"Четвертая четверть\")\n",
    "elif y > 0:\n",
    "    print(\"Вторая четверть\")\n",
    "else:\n",
    "    print(\"Третья четверть\")"
   ]
  },
  {
   "cell_type": "markdown",
   "metadata": {},
   "source": [
    "#### 2.1. Операторы"
   ]
  },
  {
   "cell_type": "raw",
   "metadata": {},
   "source": [
    "<\n",
    "Меньше — условие верно, если первый операнд меньше второго. \n",
    ">\n",
    "Больше — условие верно, если первый операнд больше второго. \n",
    "<=\n",
    "Меньше или равно. \n",
    ">=\n",
    "Больше или равно. \n",
    "==\n",
    "Равенство. Условие верно, если два операнда равны. \n",
    "!=\n",
    "Неравенство. Условие верно, если два операнда неравны"
   ]
  },
  {
   "cell_type": "markdown",
   "metadata": {},
   "source": [
    "# 3. Циклы"
   ]
  },
  {
   "cell_type": "markdown",
   "metadata": {},
   "source": [
    "## 3.1. Цикл for  "
   ]
  },
  {
   "cell_type": "markdown",
   "metadata": {},
   "source": [
    "В цикле for указывается переменная и множество значений, по которому будет пробегать переменная.\n",
    "\n",
    "Вот простейший пример использования цикла, где в качестве множества значений используется кортеж:"
   ]
  },
  {
   "cell_type": "code",
   "execution_count": 4,
   "metadata": {},
   "outputs": [
    {
     "name": "stdout",
     "output_type": "stream",
     "text": [
      "1\n",
      "2\n",
      "3\n",
      "red\n",
      "orange\n",
      "yellow\n",
      "green\n",
      "cyan\n"
     ]
    }
   ],
   "source": [
    "for i in 1, 2, 3, 'red', 'orange', 'yellow', 'green', 'cyan':\n",
    "    print(i)"
   ]
  },
  {
   "cell_type": "code",
   "execution_count": 5,
   "metadata": {},
   "outputs": [
    {
     "name": "stdout",
     "output_type": "stream",
     "text": [
      "0\n",
      "1\n",
      "2\n",
      "3\n"
     ]
    }
   ],
   "source": [
    "for i in range(4):  # равносильно инструкции for i in 0, 1, 2, 3:\n",
    "    # здесь можно выполнять циклические действия\n",
    "    print(i)"
   ]
  },
  {
   "cell_type": "code",
   "execution_count": 7,
   "metadata": {},
   "outputs": [
    {
     "name": "stdout",
     "output_type": "stream",
     "text": [
      "длина списка =  4\n",
      "4\n",
      "3\n",
      "8\n",
      "2\n"
     ]
    }
   ],
   "source": [
    "a = [4, 3, 8, 2]\n",
    "print('длина списка = ', len(a))\n",
    "for i in a:\n",
    "    print(i)"
   ]
  },
  {
   "cell_type": "markdown",
   "metadata": {},
   "source": [
    "## 3.2. Цикл while"
   ]
  },
  {
   "cell_type": "raw",
   "metadata": {},
   "source": [
    "while условие:\n",
    "    блок инструкций"
   ]
  },
  {
   "cell_type": "markdown",
   "metadata": {},
   "source": [
    "Например, следующий фрагмент программы напечатает на экран квадраты всех целых чисел от 1 до 10. Видно, что цикл while может заменять цикл for ... in range(...):"
   ]
  },
  {
   "cell_type": "code",
   "execution_count": 9,
   "metadata": {},
   "outputs": [
    {
     "name": "stdout",
     "output_type": "stream",
     "text": [
      "1 4 9 16 25 36 49 64 81 100 "
     ]
    }
   ],
   "source": [
    "i = 1\n",
    "while i <= 10:\n",
    "    print(i ** 2, end = ' ')\n",
    "    i += 1"
   ]
  },
  {
   "cell_type": "markdown",
   "metadata": {},
   "source": [
    "##### Инструкция break\n",
    "Если во время выполнения Питон встречает инструкцию break внутри цикла, то он сразу же прекращает выполнение этого цикла и выходит из него."
   ]
  },
  {
   "cell_type": "markdown",
   "metadata": {},
   "source": [
    "Приведем пример программы, которая считывает числа до тех пор, пока не встретит отрицательное число. При появлении отрицательного числа программа завершается. В первом варианте последовательность чисел завершается числом 0 (при считывании которого надо остановиться)."
   ]
  },
  {
   "cell_type": "code",
   "execution_count": 10,
   "metadata": {},
   "outputs": [
    {
     "name": "stdout",
     "output_type": "stream",
     "text": [
      "5\n",
      "-2\n",
      "Встретилось отрицательное число -2\n"
     ]
    }
   ],
   "source": [
    "a = int(input())\n",
    "while a != 0:\n",
    "    if a < 0:\n",
    "        print('Встретилось отрицательное число', a)\n",
    "        break\n",
    "    a = int(input())\n",
    "else:\n",
    "    print('Ни одного отрицательного числа не встретилось')"
   ]
  }
 ],
 "metadata": {
  "kernelspec": {
   "display_name": "Python 3",
   "language": "python",
   "name": "python3"
  },
  "language_info": {
   "codemirror_mode": {
    "name": "ipython",
    "version": 3
   },
   "file_extension": ".py",
   "mimetype": "text/x-python",
   "name": "python",
   "nbconvert_exporter": "python",
   "pygments_lexer": "ipython3",
   "version": "3.6.5"
  }
 },
 "nbformat": 4,
 "nbformat_minor": 2
}
